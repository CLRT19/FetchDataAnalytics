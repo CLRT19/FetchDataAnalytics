{
 "cells": [
  {
   "cell_type": "code",
   "execution_count": 1,
   "metadata": {},
   "outputs": [
    {
     "data": {
      "text/plain": [
       "'Connected: @Data.db'"
      ]
     },
     "execution_count": 1,
     "metadata": {},
     "output_type": "execute_result"
    }
   ],
   "source": [
    "%load_ext sql\n",
    "%sql sqlite:///Data.db"
   ]
  },
  {
   "attachments": {},
   "cell_type": "markdown",
   "metadata": {},
   "source": [
    "## Question 1\n",
    "Which brand saw the most dollars spent in the month of June?"
   ]
  },
  {
   "cell_type": "code",
   "execution_count": 2,
   "metadata": {},
   "outputs": [
    {
     "name": "stdout",
     "output_type": "stream",
     "text": [
      " * sqlite:///Data.db\n",
      "Done.\n"
     ]
    },
    {
     "data": {
      "text/html": [
       "<table>\n",
       "    <thead>\n",
       "        <tr>\n",
       "            <th>NAME</th>\n",
       "            <th>Total Sales in June</th>\n",
       "        </tr>\n",
       "    </thead>\n",
       "    <tbody>\n",
       "        <tr>\n",
       "            <td>Keebler</td>\n",
       "            <td>179943.7</td>\n",
       "        </tr>\n",
       "    </tbody>\n",
       "</table>"
      ],
      "text/plain": [
       "[('Keebler', 179943.7)]"
      ]
     },
     "execution_count": 2,
     "metadata": {},
     "output_type": "execute_result"
    }
   ],
   "source": [
    "%%sql\n",
    "SELECT  b.NAME, ROUND(sum(i.TOTAL_FINAL_PRICE),2) as \"Total Sales in June\"\n",
    "FROM Brands b,  Items i\n",
    "Where i.MODIFY_DATE LIKE '%-06-%'\n",
    "AND (b.BRAND_CODE = i.BRAND_CODE\n",
    "OR b.BARCODE = i.BARCODE)\n",
    "GROUP BY b.NAME\n",
    "ORDER BY sum(i.TOTAL_FINAL_PRICE) DESC\n",
    "LIMIT 1;"
   ]
  },
  {
   "attachments": {},
   "cell_type": "markdown",
   "metadata": {},
   "source": [
    "## Question 2\n",
    "Which user spent the most money in the month of August?"
   ]
  },
  {
   "cell_type": "code",
   "execution_count": 3,
   "metadata": {},
   "outputs": [
    {
     "name": "stdout",
     "output_type": "stream",
     "text": [
      " * sqlite:///Data.db\n",
      "Done.\n"
     ]
    },
    {
     "data": {
      "text/html": [
       "<table>\n",
       "    <thead>\n",
       "        <tr>\n",
       "            <th>USER ID</th>\n",
       "            <th>Total Spends in August</th>\n",
       "        </tr>\n",
       "    </thead>\n",
       "    <tbody>\n",
       "        <tr>\n",
       "            <td>609ab37f7a2e8f2f95ae968f</td>\n",
       "            <td>157719.27</td>\n",
       "        </tr>\n",
       "    </tbody>\n",
       "</table>"
      ],
      "text/plain": [
       "[('609ab37f7a2e8f2f95ae968f', 157719.27)]"
      ]
     },
     "execution_count": 3,
     "metadata": {},
     "output_type": "execute_result"
    }
   ],
   "source": [
    "%%sql\n",
    "SELECT u.ID as \"USER ID\", ROUND(sum(i.TOTAL_FINAL_PRICE),2) as \"Total Spends in August\"\n",
    "FROM Items i, Receipts r, User u\n",
    "WHERE i.MODIFY_DATE LIKE '%-08-%'\n",
    "AND i.REWARDS_RECEIPT_ID = r.ID\n",
    "AND r.USER_ID = u.ID\n",
    "GROUP BY u.ID\n",
    "ORDER BY sum(i.TOTAL_FINAL_PRICE) DESC\n",
    "LIMIT 1;"
   ]
  },
  {
   "attachments": {},
   "cell_type": "markdown",
   "metadata": {},
   "source": [
    "## Question 3\n",
    "What user bought the most expensive item?"
   ]
  },
  {
   "attachments": {},
   "cell_type": "markdown",
   "metadata": {},
   "source": [
    "There my be the case there are two user purchased the same expensive item. The fllowing code output one user"
   ]
  },
  {
   "cell_type": "code",
   "execution_count": 12,
   "metadata": {},
   "outputs": [
    {
     "name": "stdout",
     "output_type": "stream",
     "text": [
      " * sqlite:///Data.db\n",
      "Done.\n"
     ]
    },
    {
     "data": {
      "text/html": [
       "<table>\n",
       "    <thead>\n",
       "        <tr>\n",
       "            <th>User that purchased the most expensive item</th>\n",
       "            <th>State</th>\n",
       "            <th>Price of the most expensive item</th>\n",
       "        </tr>\n",
       "    </thead>\n",
       "    <tbody>\n",
       "        <tr>\n",
       "            <td>617376b8a9619d488190e0b6</td>\n",
       "            <td>NY</td>\n",
       "            <td>31005.99</td>\n",
       "        </tr>\n",
       "    </tbody>\n",
       "</table>"
      ],
      "text/plain": [
       "[('617376b8a9619d488190e0b6', 'NY', 31005.99)]"
      ]
     },
     "execution_count": 12,
     "metadata": {},
     "output_type": "execute_result"
    }
   ],
   "source": [
    "%%sql\n",
    "SELECT u.ID as \"User that purchased the most expensive item\", u.STATE as \"State\", e.TOTAL_FINAL_PRICE as \"Price of the most expensive item\"\n",
    "FROM Receipts r, User u, (SELECT * \n",
    "FROM Items\n",
    "ORDER BY TOTAL_FINAL_PRICE DESC\n",
    "LIMIT 1) as e\n",
    "Where e.REWARDS_RECEIPT_ID = r.ID\n",
    "AND r.USER_ID = u.ID;\n"
   ]
  },
  {
   "attachments": {},
   "cell_type": "markdown",
   "metadata": {},
   "source": [
    "To output all the users that purchased the most expensive item"
   ]
  },
  {
   "cell_type": "code",
   "execution_count": 11,
   "metadata": {},
   "outputs": [
    {
     "name": "stdout",
     "output_type": "stream",
     "text": [
      " * sqlite:///Data.db\n",
      "Done.\n"
     ]
    },
    {
     "data": {
      "text/html": [
       "<table>\n",
       "    <thead>\n",
       "        <tr>\n",
       "            <th>User that purchased the most expensive item</th>\n",
       "            <th>State</th>\n",
       "            <th>Price of the most expensive item</th>\n",
       "        </tr>\n",
       "    </thead>\n",
       "    <tbody>\n",
       "        <tr>\n",
       "            <td>617376b8a9619d488190e0b6</td>\n",
       "            <td>NY</td>\n",
       "            <td>31005.99</td>\n",
       "        </tr>\n",
       "        <tr>\n",
       "            <td>617376b8a9619d488190e0b6</td>\n",
       "            <td>NY</td>\n",
       "            <td>31005.99</td>\n",
       "        </tr>\n",
       "    </tbody>\n",
       "</table>"
      ],
      "text/plain": [
       "[('617376b8a9619d488190e0b6', 'NY', 31005.99),\n",
       " ('617376b8a9619d488190e0b6', 'NY', 31005.99)]"
      ]
     },
     "execution_count": 11,
     "metadata": {},
     "output_type": "execute_result"
    }
   ],
   "source": [
    "%%sql\n",
    "SELECT u.ID as \"User that purchased the most expensive item\", u.STATE as \"State\", e.TOTAL_FINAL_PRICE as \"Price of the most expensive item\"\n",
    "FROM Receipts r, User u, (SELECT * \n",
    "FROM Items\n",
    "ORDER BY TOTAL_FINAL_PRICE DESC\n",
    "LIMIT 1) as e, Items i\n",
    "Where i.TOTAL_FINAL_PRICE = e.TOTAL_FINAL_PRICE\n",
    "AND i.REWARDS_RECEIPT_ID = r.ID\n",
    "AND r.USER_ID = u.ID;"
   ]
  },
  {
   "cell_type": "code",
   "execution_count": null,
   "metadata": {},
   "outputs": [],
   "source": []
  }
 ],
 "metadata": {
  "kernelspec": {
   "display_name": "base",
   "language": "python",
   "name": "python3"
  },
  "language_info": {
   "codemirror_mode": {
    "name": "ipython",
    "version": 3
   },
   "file_extension": ".py",
   "mimetype": "text/x-python",
   "name": "python",
   "nbconvert_exporter": "python",
   "pygments_lexer": "ipython3",
   "version": "3.9.13"
  },
  "vscode": {
   "interpreter": {
    "hash": "e49845013f5b302f4c9938347791680fc2d0513b170ecbcb4aab25f5faba4d78"
   }
  }
 },
 "nbformat": 4,
 "nbformat_minor": 2
}

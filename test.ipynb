{
 "cells": [
  {
   "cell_type": "code",
   "execution_count": 13,
   "metadata": {},
   "outputs": [
    {
     "name": "stdout",
     "output_type": "stream",
     "text": [
      "The sql extension is already loaded. To reload it, use:\n",
      "  %reload_ext sql\n"
     ]
    },
    {
     "data": {
      "text/plain": [
       "'Connected: @Data.db'"
      ]
     },
     "execution_count": 13,
     "metadata": {},
     "output_type": "execute_result"
    }
   ],
   "source": [
    "%load_ext sql\n",
    "%sql sqlite:///Data.db"
   ]
  },
  {
   "cell_type": "markdown",
   "metadata": {},
   "source": [
    "## Question 1\n",
    "Which brand saw the most dollars spent in the month of June?"
   ]
  },
  {
   "cell_type": "code",
   "execution_count": 14,
   "metadata": {},
   "outputs": [
    {
     "name": "stdout",
     "output_type": "stream",
     "text": [
      " * sqlite:///Data.db\n",
      "Done.\n"
     ]
    },
    {
     "data": {
      "text/html": [
       "<table>\n",
       "    <thead>\n",
       "        <tr>\n",
       "            <th>NAME</th>\n",
       "            <th>Total Sales in June</th>\n",
       "        </tr>\n",
       "    </thead>\n",
       "    <tbody>\n",
       "        <tr>\n",
       "            <td>Keebler</td>\n",
       "            <td>179943.7</td>\n",
       "        </tr>\n",
       "    </tbody>\n",
       "</table>"
      ],
      "text/plain": [
       "[('Keebler', 179943.7)]"
      ]
     },
     "execution_count": 14,
     "metadata": {},
     "output_type": "execute_result"
    }
   ],
   "source": [
    "%%sql\n",
    "SELECT  b.NAME, ROUND(sum(i.TOTAL_FINAL_PRICE),2) as \"Total Sales in June\"\n",
    "FROM Brands b,  Items i\n",
    "Where i.MODIFY_DATE LIKE '%-06-%'\n",
    "AND (b.BRAND_CODE = i.BRAND_CODE\n",
    "OR b.BARCODE = i.BARCODE)\n",
    "GROUP BY b.NAME\n",
    "ORDER BY sum(i.TOTAL_FINAL_PRICE) DESC\n",
    "LIMIT 1;"
   ]
  },
  {
   "cell_type": "markdown",
   "metadata": {},
   "source": [
    "## Question 2\n",
    "Which user spent the most money in the month of August?"
   ]
  },
  {
   "cell_type": "code",
   "execution_count": 15,
   "metadata": {},
   "outputs": [
    {
     "name": "stdout",
     "output_type": "stream",
     "text": [
      " * sqlite:///Data.db\n",
      "Done.\n"
     ]
    },
    {
     "data": {
      "text/html": [
       "<table>\n",
       "    <thead>\n",
       "        <tr>\n",
       "            <th>USER ID</th>\n",
       "            <th>Total Spends in August</th>\n",
       "        </tr>\n",
       "    </thead>\n",
       "    <tbody>\n",
       "        <tr>\n",
       "            <td>609ab37f7a2e8f2f95ae968f</td>\n",
       "            <td>157719.27</td>\n",
       "        </tr>\n",
       "    </tbody>\n",
       "</table>"
      ],
      "text/plain": [
       "[('609ab37f7a2e8f2f95ae968f', 157719.27)]"
      ]
     },
     "execution_count": 15,
     "metadata": {},
     "output_type": "execute_result"
    }
   ],
   "source": [
    "%%sql\n",
    "SELECT u.ID as \"USER ID\", ROUND(sum(i.TOTAL_FINAL_PRICE),2) as \"Total Spends in August\"\n",
    "FROM Items i, Receipts r, User u\n",
    "WHERE i.MODIFY_DATE LIKE '%-08-%'\n",
    "AND i.REWARDS_RECEIPT_ID = r.ID\n",
    "AND r.USER_ID = u.ID\n",
    "GROUP BY u.ID\n",
    "ORDER BY sum(i.TOTAL_FINAL_PRICE) DESC\n",
    "LIMIT 1;"
   ]
  },
  {
   "cell_type": "markdown",
   "metadata": {},
   "source": [
    "## Question 3\n",
    "What user bought the most expensive item?"
   ]
  },
  {
   "cell_type": "markdown",
   "metadata": {},
   "source": [
    "There my be the case there are two user purchased the same expensive item. The fllowing code output one user"
   ]
  },
  {
   "cell_type": "code",
   "execution_count": 16,
   "metadata": {},
   "outputs": [
    {
     "name": "stdout",
     "output_type": "stream",
     "text": [
      " * sqlite:///Data.db\n",
      "Done.\n"
     ]
    },
    {
     "data": {
      "text/html": [
       "<table>\n",
       "    <thead>\n",
       "        <tr>\n",
       "            <th>User that purchased the most expensive item</th>\n",
       "            <th>State</th>\n",
       "            <th>Price of the most expensive item</th>\n",
       "        </tr>\n",
       "    </thead>\n",
       "    <tbody>\n",
       "        <tr>\n",
       "            <td>617376b8a9619d488190e0b6</td>\n",
       "            <td>NY</td>\n",
       "            <td>31005.99</td>\n",
       "        </tr>\n",
       "    </tbody>\n",
       "</table>"
      ],
      "text/plain": [
       "[('617376b8a9619d488190e0b6', 'NY', 31005.99)]"
      ]
     },
     "execution_count": 16,
     "metadata": {},
     "output_type": "execute_result"
    }
   ],
   "source": [
    "%%sql\n",
    "SELECT u.ID as \"User that purchased the most expensive item\", u.STATE as \"State\", (e.TOTAL_FINAL_PRICE/e.QUANTITY_PURCHASED) as \"Price of the most expensive item\"\n",
    "FROM Receipts r, User u, (SELECT * \n",
    "FROM Items\n",
    "ORDER BY (TOTAL_FINAL_PRICE/QUANTITY_PURCHASED) DESC\n",
    "LIMIT 1) as e\n",
    "Where e.REWARDS_RECEIPT_ID = r.ID\n",
    "AND r.USER_ID = u.ID;\n"
   ]
  },
  {
   "cell_type": "markdown",
   "metadata": {},
   "source": [
    "To output all the users that purchased the most expensive item"
   ]
  },
  {
   "cell_type": "code",
   "execution_count": 17,
   "metadata": {},
   "outputs": [
    {
     "name": "stdout",
     "output_type": "stream",
     "text": [
      " * sqlite:///Data.db\n",
      "Done.\n"
     ]
    },
    {
     "data": {
      "text/html": [
       "<table>\n",
       "    <thead>\n",
       "        <tr>\n",
       "            <th>User that purchased the most expensive item</th>\n",
       "            <th>State</th>\n",
       "            <th>Price of the most expensive item</th>\n",
       "        </tr>\n",
       "    </thead>\n",
       "    <tbody>\n",
       "        <tr>\n",
       "            <td>617376b8a9619d488190e0b6</td>\n",
       "            <td>NY</td>\n",
       "            <td>31005.99</td>\n",
       "        </tr>\n",
       "        <tr>\n",
       "            <td>617376b8a9619d488190e0b6</td>\n",
       "            <td>NY</td>\n",
       "            <td>31005.99</td>\n",
       "        </tr>\n",
       "    </tbody>\n",
       "</table>"
      ],
      "text/plain": [
       "[('617376b8a9619d488190e0b6', 'NY', 31005.99),\n",
       " ('617376b8a9619d488190e0b6', 'NY', 31005.99)]"
      ]
     },
     "execution_count": 17,
     "metadata": {},
     "output_type": "execute_result"
    }
   ],
   "source": [
    "%%sql\n",
    "SELECT u.ID as \"User that purchased the most expensive item\", u.STATE as \"State\", (e.TOTAL_FINAL_PRICE/e.QUANTITY_PURCHASED)  as \"Price of the most expensive item\"\n",
    "FROM Receipts r, User u, (SELECT * \n",
    "FROM Items\n",
    "ORDER BY (TOTAL_FINAL_PRICE/QUANTITY_PURCHASED) DESC\n",
    "LIMIT 1) as e, Items i\n",
    "Where (i.TOTAL_FINAL_PRICE/i.QUANTITY_PURCHASED) = (e.TOTAL_FINAL_PRICE/e.QUANTITY_PURCHASED)\n",
    "AND i.REWARDS_RECEIPT_ID = r.ID\n",
    "AND r.USER_ID = u.ID;"
   ]
  },
  {
   "cell_type": "markdown",
   "metadata": {},
   "source": [
    "## Question 4\n",
    "What is the name of the most expensive item purchased?"
   ]
  },
  {
   "cell_type": "code",
   "execution_count": 18,
   "metadata": {},
   "outputs": [
    {
     "name": "stdout",
     "output_type": "stream",
     "text": [
      " * sqlite:///Data.db\n",
      "Done.\n"
     ]
    },
    {
     "data": {
      "text/html": [
       "<table>\n",
       "    <thead>\n",
       "        <tr>\n",
       "            <th>Most expensive item</th>\n",
       "            <th>Price of the most expensive item</th>\n",
       "            <th>Description</th>\n",
       "        </tr>\n",
       "    </thead>\n",
       "    <tbody>\n",
       "        <tr>\n",
       "            <td>STRBCKS IC CF BL</td>\n",
       "            <td>31005.99</td>\n",
       "            <td>Starbucks Iced Coffee Premium Coffee Beverage Unsweetened Blonde Roast Bottle 48 Oz 1 Ct</td>\n",
       "        </tr>\n",
       "    </tbody>\n",
       "</table>"
      ],
      "text/plain": [
       "[('STRBCKS IC CF BL', 31005.99, 'Starbucks Iced Coffee Premium Coffee Beverage Unsweetened Blonde Roast Bottle 48 Oz 1 Ct')]"
      ]
     },
     "execution_count": 18,
     "metadata": {},
     "output_type": "execute_result"
    }
   ],
   "source": [
    "%%sql\n",
    "SELECT ORIGINAL_RECEIPT_ITEM_TEXT as \"Most expensive item\", (TOTAL_FINAL_PRICE/QUANTITY_PURCHASED) as \"Price of the most expensive item\", DESCRIPTION as \"Description\"\n",
    "FROM Items\n",
    "ORDER BY (TOTAL_FINAL_PRICE/QUANTITY_PURCHASED) DESC\n",
    "LIMIT 1;"
   ]
  },
  {
   "cell_type": "markdown",
   "metadata": {},
   "source": [
    "I used the ORIGINAL_RECEIPT_ITEM_TEXT to find the name of the most expensive item. The following code output all the elements of the most expensive item."
   ]
  },
  {
   "cell_type": "code",
   "execution_count": 19,
   "metadata": {},
   "outputs": [
    {
     "name": "stdout",
     "output_type": "stream",
     "text": [
      " * sqlite:///Data.db\n",
      "Done.\n"
     ]
    },
    {
     "data": {
      "text/html": [
       "<table>\n",
       "    <thead>\n",
       "        <tr>\n",
       "            <th>REWARDS_RECEIPT_ID</th>\n",
       "            <th>ITEM_INDEX</th>\n",
       "            <th>REWARDS_RECEIPT_ITEM_ID</th>\n",
       "            <th>DESCRIPTION</th>\n",
       "            <th>BARCODE</th>\n",
       "            <th>BRAND_CODE</th>\n",
       "            <th>QUANTITY_PURCHASED</th>\n",
       "            <th>TOTAL_FINAL_PRICE</th>\n",
       "            <th>POINTS_EARNED</th>\n",
       "            <th>REWARDS_GROUP</th>\n",
       "            <th>ORIGINAL_RECEIPT_ITEM_TEXT</th>\n",
       "            <th>MODIFY_DATE</th>\n",
       "        </tr>\n",
       "    </thead>\n",
       "    <tbody>\n",
       "        <tr>\n",
       "            <td>62c6300d0a72315a3e1b202e</td>\n",
       "            <td>0</td>\n",
       "            <td>deab389b6f6ecfef51d595ab07c40e51</td>\n",
       "            <td>Starbucks Iced Coffee Premium Coffee Beverage Unsweetened Blonde Roast Bottle 48 Oz 1 Ct</td>\n",
       "            <td>048500201831</td>\n",
       "            <td>STARBUCKS</td>\n",
       "            <td>1.0</td>\n",
       "            <td>31005.99</td>\n",
       "            <td>310059.90</td>\n",
       "            <td>STARBUCKS 21 OZ OR LARGER MULTISERVE</td>\n",
       "            <td>STRBCKS IC CF BL</td>\n",
       "            <td>2022-07-07T07:11:50.648Z</td>\n",
       "        </tr>\n",
       "    </tbody>\n",
       "</table>"
      ],
      "text/plain": [
       "[('62c6300d0a72315a3e1b202e', '0', 'deab389b6f6ecfef51d595ab07c40e51', 'Starbucks Iced Coffee Premium Coffee Beverage Unsweetened Blonde Roast Bottle 48 Oz 1 Ct', '048500201831', 'STARBUCKS', 1.0, 31005.99, '310059.90', 'STARBUCKS 21 OZ OR LARGER MULTISERVE', 'STRBCKS IC CF BL', '2022-07-07T07:11:50.648Z')]"
      ]
     },
     "execution_count": 19,
     "metadata": {},
     "output_type": "execute_result"
    }
   ],
   "source": [
    "%%sql\n",
    "SELECT *\n",
    "FROM Items\n",
    "ORDER BY (TOTAL_FINAL_PRICE/QUANTITY_PURCHASED) DESC\n",
    "LIMIT 1;"
   ]
  },
  {
   "cell_type": "markdown",
   "metadata": {},
   "source": [
    "## Question 5\n",
    "How many users scanned in each month?"
   ]
  },
  {
   "cell_type": "markdown",
   "metadata": {},
   "source": [
    "### Scenario 1\n",
    "We can calculate one user multiple times in one month. \n",
    "For example, a single user scanned 3 times in June, then the number of users scanned in June is 3."
   ]
  },
  {
   "cell_type": "code",
   "execution_count": 21,
   "metadata": {},
   "outputs": [
    {
     "name": "stdout",
     "output_type": "stream",
     "text": [
      " * sqlite:///Data.db\n",
      "Done.\n"
     ]
    },
    {
     "data": {
      "text/html": [
       "<table>\n",
       "    <thead>\n",
       "        <tr>\n",
       "            <th>Jan</th>\n",
       "            <th>Feb</th>\n",
       "            <th>Mar</th>\n",
       "            <th>Apr</th>\n",
       "            <th>May</th>\n",
       "            <th>Jun</th>\n",
       "            <th>Jul</th>\n",
       "            <th>Aug</th>\n",
       "            <th>Sep</th>\n",
       "            <th>Oct</th>\n",
       "            <th>Nov</th>\n",
       "            <th>Dec</th>\n",
       "        </tr>\n",
       "    </thead>\n",
       "    <tbody>\n",
       "        <tr>\n",
       "            <td>4222</td>\n",
       "            <td>3830</td>\n",
       "            <td>4767</td>\n",
       "            <td>4882</td>\n",
       "            <td>5627</td>\n",
       "            <td>5405</td>\n",
       "            <td>6058</td>\n",
       "            <td>6191</td>\n",
       "            <td>6355</td>\n",
       "            <td>7305</td>\n",
       "            <td>7512</td>\n",
       "            <td>8447</td>\n",
       "        </tr>\n",
       "    </tbody>\n",
       "</table>"
      ],
      "text/plain": [
       "[(4222, 3830, 4767, 4882, 5627, 5405, 6058, 6191, 6355, 7305, 7512, 8447)]"
      ]
     },
     "execution_count": 21,
     "metadata": {},
     "output_type": "execute_result"
    }
   ],
   "source": [
    "%%sql\n",
    "SELECT m1.\"Jan\", m2.\"Feb\", m3.\"Mar\", m4.\"Apr\", m5.\"May\", m6.\"Jun\", m7.\"Jul\", m8.\"Aug\", m9.\"Sep\", m10.\"Oct\", m11.\"Nov\", m12.\"Dec\"\n",
    "FROM(SELECT COUNT(USER_ID) as \"Jan\"\n",
    "     FROM Receipts\n",
    "     WHERE DATE_SCANNED LIKE '%-01-%') as m1, (SELECT COUNT(USER_ID) as \"Feb\" FROM Receipts WHERE DATE_SCANNED LIKE '%-02-%') as m2, (SELECT COUNT(USER_ID) as \"Mar\" FROM Receipts WHERE DATE_SCANNED LIKE '%-03-%') as m3, (SELECT COUNT(USER_ID) as \"Apr\" FROM Receipts WHERE DATE_SCANNED LIKE '%-04-%') as m4, (SELECT COUNT(USER_ID) as \"May\" FROM Receipts WHERE DATE_SCANNED LIKE '%-05-%') as m5, (SELECT COUNT(USER_ID) as \"Jun\" FROM Receipts WHERE DATE_SCANNED LIKE '%-06-%') as m6, (SELECT COUNT(USER_ID) as \"Jul\" FROM Receipts WHERE DATE_SCANNED LIKE '%-07-%') as m7, (SELECT COUNT(USER_ID) as \"Aug\" FROM Receipts WHERE DATE_SCANNED LIKE '%-08-%') as m8, (SELECT COUNT(USER_ID) as \"Sep\" FROM Receipts WHERE DATE_SCANNED LIKE '%-09-%') as m9, (SELECT COUNT(USER_ID) as \"Oct\" FROM Receipts WHERE DATE_SCANNED LIKE '%-10-%') as m10, (SELECT COUNT(USER_ID) as \"Nov\" FROM Receipts WHERE DATE_SCANNED LIKE '%-11-%') as m11, (SELECT COUNT(USER_ID) as \"Dec\" FROM Receipts WHERE DATE_SCANNED LIKE '%-12-%') as m12\n"
   ]
  },
  {
   "cell_type": "markdown",
   "metadata": {},
   "source": [
    "### Scenario 2\n",
    "We need to calculate the number of users in each month by using the unique values of the USER_ID.\n",
    "For example, a user scanned 3 times in June, then the number of users in June is 1."
   ]
  },
  {
   "cell_type": "code",
   "execution_count": 22,
   "metadata": {},
   "outputs": [
    {
     "name": "stdout",
     "output_type": "stream",
     "text": [
      " * sqlite:///Data.db\n",
      "Done.\n"
     ]
    },
    {
     "data": {
      "text/html": [
       "<table>\n",
       "    <thead>\n",
       "        <tr>\n",
       "            <th>Jan</th>\n",
       "            <th>Feb</th>\n",
       "            <th>Mar</th>\n",
       "            <th>Apr</th>\n",
       "            <th>May</th>\n",
       "            <th>Jun</th>\n",
       "            <th>Jul</th>\n",
       "            <th>Aug</th>\n",
       "            <th>Sep</th>\n",
       "            <th>Oct</th>\n",
       "            <th>Nov</th>\n",
       "            <th>Dec</th>\n",
       "        </tr>\n",
       "    </thead>\n",
       "    <tbody>\n",
       "        <tr>\n",
       "            <td>97</td>\n",
       "            <td>87</td>\n",
       "            <td>89</td>\n",
       "            <td>90</td>\n",
       "            <td>88</td>\n",
       "            <td>88</td>\n",
       "            <td>88</td>\n",
       "            <td>88</td>\n",
       "            <td>88</td>\n",
       "            <td>91</td>\n",
       "            <td>93</td>\n",
       "            <td>98</td>\n",
       "        </tr>\n",
       "    </tbody>\n",
       "</table>"
      ],
      "text/plain": [
       "[(97, 87, 89, 90, 88, 88, 88, 88, 88, 91, 93, 98)]"
      ]
     },
     "execution_count": 22,
     "metadata": {},
     "output_type": "execute_result"
    }
   ],
   "source": [
    "%%sql\n",
    "SELECT m1.\"Jan\", m2.\"Feb\", m3.\"Mar\", m4.\"Apr\", m5.\"May\", m6.\"Jun\", m7.\"Jul\", m8.\"Aug\", m9.\"Sep\", m10.\"Oct\", m11.\"Nov\", m12.\"Dec\"\n",
    "FROM(SELECT COUNT(DISTINCT USER_ID) as \"Jan\"\n",
    "     FROM Receipts\n",
    "     WHERE DATE_SCANNED LIKE '%-01-%') as m1, (SELECT COUNT(DISTINCT USER_ID) as \"Feb\" FROM Receipts WHERE DATE_SCANNED LIKE '%-02-%') as m2, (SELECT COUNT(DISTINCT USER_ID) as \"Mar\" FROM Receipts WHERE DATE_SCANNED LIKE '%-03-%') as m3, (SELECT COUNT(DISTINCT USER_ID) as \"Apr\" FROM Receipts WHERE DATE_SCANNED LIKE '%-04-%') as m4, (SELECT COUNT(DISTINCT USER_ID) as \"May\" FROM Receipts WHERE DATE_SCANNED LIKE '%-05-%') as m5, (SELECT COUNT(DISTINCT USER_ID) as \"Jun\" FROM Receipts WHERE DATE_SCANNED LIKE '%-06-%') as m6, (SELECT COUNT(DISTINCT USER_ID) as \"Jul\" FROM Receipts WHERE DATE_SCANNED LIKE '%-07-%') as m7, (SELECT COUNT(DISTINCT USER_ID) as \"Aug\" FROM Receipts WHERE DATE_SCANNED LIKE '%-08-%') as m8, (SELECT COUNT(DISTINCT USER_ID) as \"Sep\" FROM Receipts WHERE DATE_SCANNED LIKE '%-09-%') as m9, (SELECT COUNT(DISTINCT USER_ID) as \"Oct\" FROM Receipts WHERE DATE_SCANNED LIKE '%-10-%') as m10, (SELECT COUNT(DISTINCT USER_ID) as \"Nov\" FROM Receipts WHERE DATE_SCANNED LIKE '%-11-%') as m11, (SELECT COUNT(DISTINCT USER_ID) as \"Dec\" FROM Receipts WHERE DATE_SCANNED LIKE '%-12-%') as m12\n"
   ]
  }
 ],
 "metadata": {
  "kernelspec": {
   "display_name": "Python 3 (ipykernel)",
   "language": "python",
   "name": "python3"
  },
  "language_info": {
   "codemirror_mode": {
    "name": "ipython",
    "version": 3
   },
   "file_extension": ".py",
   "mimetype": "text/x-python",
   "name": "python",
   "nbconvert_exporter": "python",
   "pygments_lexer": "ipython3",
   "version": "3.9.13 (main, Aug 25 2022, 18:29:29) \n[Clang 12.0.0 ]"
  },
  "vscode": {
   "interpreter": {
    "hash": "e49845013f5b302f4c9938347791680fc2d0513b170ecbcb4aab25f5faba4d78"
   }
  }
 },
 "nbformat": 4,
 "nbformat_minor": 2
}
